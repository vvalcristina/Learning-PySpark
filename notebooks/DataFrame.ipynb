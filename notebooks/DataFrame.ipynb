{
 "cells": [
  {
   "cell_type": "markdown",
   "id": "bcb8ae41-bfc3-4b27-b1c9-6d4c209a2f0a",
   "metadata": {},
   "source": [
    "![image](images/dataframe.png)"
   ]
  },
  {
   "cell_type": "markdown",
   "id": "caf82436-a931-4a45-bf81-9e045f27fff7",
   "metadata": {},
   "source": [
    "![image](images/tipos_dados.png)"
   ]
  },
  {
   "cell_type": "markdown",
   "id": "7ca43bf5-3de4-450b-9188-4a88dec74f9b",
   "metadata": {},
   "source": [
    "![image](images/schema.png)"
   ]
  },
  {
   "cell_type": "code",
   "execution_count": 1,
   "id": "4f18d3e7-324b-42b7-b36f-fc32063a4da8",
   "metadata": {},
   "outputs": [],
   "source": [
    "import pyspark\n",
    "from pyspark.sql import SparkSession"
   ]
  },
  {
   "cell_type": "code",
   "execution_count": 2,
   "id": "41de845d-487c-4a40-8cec-c1b5f5f69dac",
   "metadata": {},
   "outputs": [],
   "source": [
    "spark = SparkSession.builder.appName('SparkByExamples.com').getOrCreate()\n",
    "sc= spark.sparkContext"
   ]
  },
  {
   "cell_type": "code",
   "execution_count": 3,
   "id": "39de7e16-65e8-4ef6-bff9-975842150d3b",
   "metadata": {},
   "outputs": [
    {
     "data": {
      "text/html": [
       "\n",
       "            <div>\n",
       "                <p><b>SparkSession - in-memory</b></p>\n",
       "                \n",
       "        <div>\n",
       "            <p><b>SparkContext</b></p>\n",
       "\n",
       "            <p><a href=\"http://7520df651444:4040\">Spark UI</a></p>\n",
       "\n",
       "            <dl>\n",
       "              <dt>Version</dt>\n",
       "                <dd><code>v3.3.0</code></dd>\n",
       "              <dt>Master</dt>\n",
       "                <dd><code>local[*]</code></dd>\n",
       "              <dt>AppName</dt>\n",
       "                <dd><code>SparkByExamples.com</code></dd>\n",
       "            </dl>\n",
       "        </div>\n",
       "        \n",
       "            </div>\n",
       "        "
      ],
      "text/plain": [
       "<pyspark.sql.session.SparkSession at 0x7f19c003dcc0>"
      ]
     },
     "execution_count": 3,
     "metadata": {},
     "output_type": "execute_result"
    }
   ],
   "source": [
    "spark"
   ]
  },
  {
   "cell_type": "code",
   "execution_count": 4,
   "id": "2daff71c-2776-4566-815c-9076b689ae2e",
   "metadata": {},
   "outputs": [
    {
     "name": "stdout",
     "output_type": "stream",
     "text": [
      "+-----+---+\n",
      "|   _1| _2|\n",
      "+-----+---+\n",
      "|Pedro| 10|\n",
      "|Maria| 20|\n",
      "| José| 40|\n",
      "+-----+---+\n",
      "\n"
     ]
    }
   ],
   "source": [
    "df1 = spark.createDataFrame([(\"Pedro\",10),(\"Maria\",20),(\"José\",40)])\n",
    "\n",
    "df1.show()"
   ]
  },
  {
   "cell_type": "code",
   "execution_count": 5,
   "id": "894a4de6-1fb2-4c9f-b6f0-7e77ba854284",
   "metadata": {},
   "outputs": [],
   "source": [
    "schema = \"Id INT, Nome STRING\""
   ]
  },
  {
   "cell_type": "code",
   "execution_count": 6,
   "id": "d93ba6ce-bbf6-4781-a2c8-83ea9c48f188",
   "metadata": {},
   "outputs": [],
   "source": [
    "dados = [[1,\"Pedro\"],[2,\"Maria\"]]"
   ]
  },
  {
   "cell_type": "code",
   "execution_count": 7,
   "id": "aef55a7c-afe2-4b49-9911-7a28e0d777c7",
   "metadata": {},
   "outputs": [
    {
     "name": "stdout",
     "output_type": "stream",
     "text": [
      "+---+-----+\n",
      "| Id| Nome|\n",
      "+---+-----+\n",
      "|  1|Pedro|\n",
      "|  2|Maria|\n",
      "+---+-----+\n",
      "\n"
     ]
    }
   ],
   "source": [
    "df2 = spark.createDataFrame(dados, schema)\n",
    "\n",
    "df2.show()"
   ]
  },
  {
   "cell_type": "code",
   "execution_count": 8,
   "id": "6ffe8d29-5e1d-4067-aabc-fc22cb925e94",
   "metadata": {},
   "outputs": [
    {
     "data": {
      "text/plain": [
       "[('Id', 'int'), ('Nome', 'string')]"
      ]
     },
     "execution_count": 8,
     "metadata": {},
     "output_type": "execute_result"
    }
   ],
   "source": [
    "df2.dtypes"
   ]
  },
  {
   "cell_type": "code",
   "execution_count": 9,
   "id": "bc496848-4c45-43d2-a33c-e9068ca877ef",
   "metadata": {},
   "outputs": [],
   "source": [
    "from pyspark.sql.functions import sum"
   ]
  },
  {
   "cell_type": "code",
   "execution_count": 10,
   "id": "b47455fc-ad60-42da-a07c-6200ab3f2a2b",
   "metadata": {},
   "outputs": [],
   "source": [
    "schema2 = \"Produtos STRING, Vendas INT\""
   ]
  },
  {
   "cell_type": "code",
   "execution_count": 11,
   "id": "cbe88b9c-2e22-401a-81e9-e7ead564473a",
   "metadata": {},
   "outputs": [],
   "source": [
    "vendas = [[\"Caneta\",10],[\"Lápis\",20],[\"Caneta\",40]]"
   ]
  },
  {
   "cell_type": "code",
   "execution_count": 13,
   "id": "55f37df2-94fd-4ca5-9958-3ba8b54a50b8",
   "metadata": {},
   "outputs": [
    {
     "name": "stdout",
     "output_type": "stream",
     "text": [
      "+--------+------+\n",
      "|Produtos|Vendas|\n",
      "+--------+------+\n",
      "|  Caneta|    10|\n",
      "|   Lápis|    20|\n",
      "|  Caneta|    40|\n",
      "+--------+------+\n",
      "\n"
     ]
    }
   ],
   "source": [
    "df3 = spark.createDataFrame(vendas, schema2)\n",
    "\n",
    "df3.show()"
   ]
  },
  {
   "cell_type": "code",
   "execution_count": 15,
   "id": "e6fb9353-8a37-487c-889c-d5a44480c080",
   "metadata": {},
   "outputs": [
    {
     "name": "stdout",
     "output_type": "stream",
     "text": [
      "+--------+-----------+\n",
      "|Produtos|sum(Vendas)|\n",
      "+--------+-----------+\n",
      "|  Caneta|         50|\n",
      "|   Lápis|         20|\n",
      "+--------+-----------+\n",
      "\n"
     ]
    }
   ],
   "source": [
    "df3.groupBy(\"Produtos\").agg(sum(\"Vendas\")).show()"
   ]
  },
  {
   "cell_type": "code",
   "execution_count": 16,
   "id": "a5eff559-36da-4021-8796-38bd3fa99ec2",
   "metadata": {},
   "outputs": [
    {
     "name": "stdout",
     "output_type": "stream",
     "text": [
      "+--------+\n",
      "|Produtos|\n",
      "+--------+\n",
      "|  Caneta|\n",
      "|   Lápis|\n",
      "|  Caneta|\n",
      "+--------+\n",
      "\n"
     ]
    }
   ],
   "source": [
    "df3.select(\"Produtos\").show()"
   ]
  },
  {
   "cell_type": "code",
   "execution_count": 18,
   "id": "5982d566-015d-4a48-a785-972b7fa37ab4",
   "metadata": {},
   "outputs": [
    {
     "name": "stdout",
     "output_type": "stream",
     "text": [
      "+------+--------+\n",
      "|Vendas|Produtos|\n",
      "+------+--------+\n",
      "|    10|  Caneta|\n",
      "|    20|   Lápis|\n",
      "|    40|  Caneta|\n",
      "+------+--------+\n",
      "\n"
     ]
    }
   ],
   "source": [
    "df3.select(\"Vendas\",\"Produtos\").show()"
   ]
  },
  {
   "cell_type": "code",
   "execution_count": 19,
   "id": "cd6ca202-faae-439c-a180-b02143cfc7b0",
   "metadata": {},
   "outputs": [],
   "source": [
    "from pyspark.sql.functions import expr"
   ]
  },
  {
   "cell_type": "code",
   "execution_count": 20,
   "id": "1c1b083e-b562-47ea-a1a1-d2d42f8c147b",
   "metadata": {},
   "outputs": [
    {
     "name": "stdout",
     "output_type": "stream",
     "text": [
      "+--------+------+--------------+\n",
      "|Produtos|Vendas|(Vendas * 0.2)|\n",
      "+--------+------+--------------+\n",
      "|  Caneta|    10|           2.0|\n",
      "|   Lápis|    20|           4.0|\n",
      "|  Caneta|    40|           8.0|\n",
      "+--------+------+--------------+\n",
      "\n"
     ]
    }
   ],
   "source": [
    "df3.select(\"Produtos\",\"Vendas\", expr(\"Vendas * 0.2\")).show()"
   ]
  },
  {
   "cell_type": "code",
   "execution_count": 21,
   "id": "95bc0515-2799-443e-b3bf-3764a939be4f",
   "metadata": {},
   "outputs": [
    {
     "data": {
      "text/plain": [
       "StructType([StructField('Produtos', StringType(), True), StructField('Vendas', IntegerType(), True)])"
      ]
     },
     "execution_count": 21,
     "metadata": {},
     "output_type": "execute_result"
    }
   ],
   "source": [
    "df3.schema"
   ]
  },
  {
   "cell_type": "code",
   "execution_count": 22,
   "id": "92fd7355-db0d-4c73-9bce-2754b225c558",
   "metadata": {},
   "outputs": [
    {
     "data": {
      "text/plain": [
       "['Produtos', 'Vendas']"
      ]
     },
     "execution_count": 22,
     "metadata": {},
     "output_type": "execute_result"
    }
   ],
   "source": [
    "df3.columns"
   ]
  },
  {
   "cell_type": "markdown",
   "id": "6d7ddaa8-b615-445f-b520-a1e53a504cd8",
   "metadata": {},
   "source": [
    "## Importando Dados"
   ]
  },
  {
   "cell_type": "code",
   "execution_count": 23,
   "id": "07fe63a1-257d-4e3e-bd08-67113821fe03",
   "metadata": {},
   "outputs": [],
   "source": [
    "from pyspark.sql.types import *"
   ]
  },
  {
   "cell_type": "markdown",
   "id": "0c6aecee-a183-4a71-b2c2-e396cec1e085",
   "metadata": {},
   "source": [
    "### Inferindo Schema"
   ]
  },
  {
   "cell_type": "code",
   "execution_count": 30,
   "id": "d99ac3dc-d529-4a6e-bf96-b91e5306e1c5",
   "metadata": {},
   "outputs": [],
   "source": [
    "arqschema = \"id INT, nome STRING, status STRING, cidade STRING, vendas INT, data STRING\""
   ]
  },
  {
   "cell_type": "code",
   "execution_count": 31,
   "id": "892c7cfd-5cf7-43df-ba6c-4b730587d78e",
   "metadata": {},
   "outputs": [],
   "source": [
    "despachantes = spark.read.csv(\"/home/jovyan/work/notebooks/data/despachantes.csv\",header=False, schema=arqschema)"
   ]
  },
  {
   "cell_type": "code",
   "execution_count": 32,
   "id": "373386f0-dc95-45cb-8ac9-095aa04b5f50",
   "metadata": {},
   "outputs": [
    {
     "name": "stdout",
     "output_type": "stream",
     "text": [
      "+---+-------------------+------+-------------+------+----------+\n",
      "| id|               nome|status|       cidade|vendas|      data|\n",
      "+---+-------------------+------+-------------+------+----------+\n",
      "|  1|   Carminda Pestana| Ativo|  Santa Maria|    23|2020-08-11|\n",
      "|  2|    Deolinda Vilela| Ativo|Novo Hamburgo|    34|2020-03-05|\n",
      "|  3|   Emídio Dornelles| Ativo| Porto Alegre|    34|2020-02-05|\n",
      "|  4|Felisbela Dornelles| Ativo| Porto Alegre|    36|2020-02-05|\n",
      "|  5|     Graça Ornellas| Ativo| Porto Alegre|    12|2020-02-05|\n",
      "|  6|   Matilde Rebouças| Ativo| Porto Alegre|    22|2019-01-05|\n",
      "|  7|    Noêmia   Orriça| Ativo|  Santa Maria|    45|2019-10-05|\n",
      "|  8|      Roque Vásquez| Ativo| Porto Alegre|    65|2020-03-05|\n",
      "|  9|      Uriel Queiroz| Ativo| Porto Alegre|    54|2018-05-05|\n",
      "| 10|   Viviana Sequeira| Ativo| Porto Alegre|     0|2020-09-05|\n",
      "+---+-------------------+------+-------------+------+----------+\n",
      "\n"
     ]
    }
   ],
   "source": [
    "despachantes.show()"
   ]
  },
  {
   "cell_type": "code",
   "execution_count": 36,
   "id": "d2b38029-7bc8-4c96-9e4a-2c05036db8d6",
   "metadata": {},
   "outputs": [
    {
     "name": "stdout",
     "output_type": "stream",
     "text": [
      "root\n",
      " |-- id: integer (nullable = true)\n",
      " |-- nome: string (nullable = true)\n",
      " |-- status: string (nullable = true)\n",
      " |-- cidade: string (nullable = true)\n",
      " |-- vendas: integer (nullable = true)\n",
      " |-- data: string (nullable = true)\n",
      "\n"
     ]
    }
   ],
   "source": [
    "despachantes.printSchema()"
   ]
  },
  {
   "cell_type": "markdown",
   "id": "a38ecdd6-f0cf-41a3-a2e5-5afa8ac10433",
   "metadata": {},
   "source": [
    "### Auto Schema"
   ]
  },
  {
   "cell_type": "code",
   "execution_count": 33,
   "id": "8e3faf4e-42a3-484c-b1f1-2f50ae0e59fd",
   "metadata": {},
   "outputs": [],
   "source": [
    "desp_autoschema = spark.read.load(\"/home/jovyan/work/notebooks/data/despachantes.csv\",header=False, format=\"csv\",sep=\",\",inferSchema=True)"
   ]
  },
  {
   "cell_type": "code",
   "execution_count": 34,
   "id": "65af67ee-0061-46a3-aac8-c0cd5a4a619e",
   "metadata": {},
   "outputs": [
    {
     "name": "stdout",
     "output_type": "stream",
     "text": [
      "+---+-------------------+-----+-------------+---+-------------------+\n",
      "|_c0|                _c1|  _c2|          _c3|_c4|                _c5|\n",
      "+---+-------------------+-----+-------------+---+-------------------+\n",
      "|  1|   Carminda Pestana|Ativo|  Santa Maria| 23|2020-08-11 00:00:00|\n",
      "|  2|    Deolinda Vilela|Ativo|Novo Hamburgo| 34|2020-03-05 00:00:00|\n",
      "|  3|   Emídio Dornelles|Ativo| Porto Alegre| 34|2020-02-05 00:00:00|\n",
      "|  4|Felisbela Dornelles|Ativo| Porto Alegre| 36|2020-02-05 00:00:00|\n",
      "|  5|     Graça Ornellas|Ativo| Porto Alegre| 12|2020-02-05 00:00:00|\n",
      "|  6|   Matilde Rebouças|Ativo| Porto Alegre| 22|2019-01-05 00:00:00|\n",
      "|  7|    Noêmia   Orriça|Ativo|  Santa Maria| 45|2019-10-05 00:00:00|\n",
      "|  8|      Roque Vásquez|Ativo| Porto Alegre| 65|2020-03-05 00:00:00|\n",
      "|  9|      Uriel Queiroz|Ativo| Porto Alegre| 54|2018-05-05 00:00:00|\n",
      "| 10|   Viviana Sequeira|Ativo| Porto Alegre|  0|2020-09-05 00:00:00|\n",
      "+---+-------------------+-----+-------------+---+-------------------+\n",
      "\n"
     ]
    }
   ],
   "source": [
    "desp_autoschema.show()"
   ]
  },
  {
   "cell_type": "code",
   "execution_count": 37,
   "id": "762faf2b-2485-49d1-b384-3b17f9b8d367",
   "metadata": {},
   "outputs": [
    {
     "name": "stdout",
     "output_type": "stream",
     "text": [
      "root\n",
      " |-- _c0: integer (nullable = true)\n",
      " |-- _c1: string (nullable = true)\n",
      " |-- _c2: string (nullable = true)\n",
      " |-- _c3: string (nullable = true)\n",
      " |-- _c4: integer (nullable = true)\n",
      " |-- _c5: timestamp (nullable = true)\n",
      "\n"
     ]
    }
   ],
   "source": [
    "desp_autoschema.printSchema()"
   ]
  },
  {
   "cell_type": "markdown",
   "id": "ac2aff7a-6584-409d-9109-946484415e5c",
   "metadata": {},
   "source": [
    "### Filtrando Dataframes"
   ]
  },
  {
   "cell_type": "code",
   "execution_count": 38,
   "id": "ed70e745-ec1a-446d-946d-24f755597bd7",
   "metadata": {},
   "outputs": [],
   "source": [
    "from pyspark.sql import functions as f"
   ]
  },
  {
   "cell_type": "code",
   "execution_count": 39,
   "id": "82ada474-2041-4f2d-bce2-3396cb5550aa",
   "metadata": {},
   "outputs": [
    {
     "name": "stdout",
     "output_type": "stream",
     "text": [
      "+---+-------------------+------+\n",
      "| id|               nome|vendas|\n",
      "+---+-------------------+------+\n",
      "|  1|   Carminda Pestana|    23|\n",
      "|  2|    Deolinda Vilela|    34|\n",
      "|  3|   Emídio Dornelles|    34|\n",
      "|  4|Felisbela Dornelles|    36|\n",
      "|  6|   Matilde Rebouças|    22|\n",
      "|  7|    Noêmia   Orriça|    45|\n",
      "|  8|      Roque Vásquez|    65|\n",
      "|  9|      Uriel Queiroz|    54|\n",
      "+---+-------------------+------+\n",
      "\n"
     ]
    }
   ],
   "source": [
    "despachantes.select(\"id\",\"nome\",\"vendas\").where(f.col(\"vendas\")>20).show()"
   ]
  },
  {
   "cell_type": "code",
   "execution_count": 40,
   "id": "46da1563-ee30-4332-8e0f-0c399b6b3a46",
   "metadata": {},
   "outputs": [
    {
     "name": "stdout",
     "output_type": "stream",
     "text": [
      "+---+-------------------+------+\n",
      "| id|               nome|vendas|\n",
      "+---+-------------------+------+\n",
      "|  1|   Carminda Pestana|    23|\n",
      "|  2|    Deolinda Vilela|    34|\n",
      "|  3|   Emídio Dornelles|    34|\n",
      "|  4|Felisbela Dornelles|    36|\n",
      "|  6|   Matilde Rebouças|    22|\n",
      "+---+-------------------+------+\n",
      "\n"
     ]
    }
   ],
   "source": [
    "despachantes.select(\"id\",\"nome\",\"vendas\").where((f.col(\"vendas\")>20) & (f.col(\"vendas\")<40)).show()"
   ]
  },
  {
   "cell_type": "markdown",
   "id": "d4cef33a-55fa-4bfb-b143-f98d868b0f4c",
   "metadata": {},
   "source": [
    "### Renomeando Colunas"
   ]
  },
  {
   "cell_type": "code",
   "execution_count": 41,
   "id": "74e67e57-65f8-4754-9b3e-80b4b49868fb",
   "metadata": {},
   "outputs": [
    {
     "data": {
      "text/plain": [
       "['id', 'nomes', 'status', 'cidade', 'vendas', 'data']"
      ]
     },
     "execution_count": 41,
     "metadata": {},
     "output_type": "execute_result"
    }
   ],
   "source": [
    "novodf = despachantes.withColumnRenamed(\"nome\",\"nomes\")\n",
    "novodf.columns"
   ]
  },
  {
   "cell_type": "markdown",
   "id": "659c8061-8e85-4c86-83b4-03b1938f11fc",
   "metadata": {},
   "source": [
    "### Mudando o tipo"
   ]
  },
  {
   "cell_type": "code",
   "execution_count": 42,
   "id": "9b5ddea3-c8a2-4ac9-94ad-948291bd5833",
   "metadata": {},
   "outputs": [],
   "source": [
    "from pyspark.sql.functions import *"
   ]
  },
  {
   "cell_type": "code",
   "execution_count": 44,
   "id": "04dc86ac-0b4e-48e5-8dfe-5bfaa70a4e53",
   "metadata": {},
   "outputs": [],
   "source": [
    "despachantes2 = despachantes.withColumn(\"data2\",to_timestamp(f.col(\"data\"), \"yyyy-MM-dd\"))"
   ]
  },
  {
   "cell_type": "code",
   "execution_count": 45,
   "id": "234916eb-80a8-413d-b4e7-d2a123e76698",
   "metadata": {},
   "outputs": [
    {
     "name": "stdout",
     "output_type": "stream",
     "text": [
      "root\n",
      " |-- id: integer (nullable = true)\n",
      " |-- nome: string (nullable = true)\n",
      " |-- status: string (nullable = true)\n",
      " |-- cidade: string (nullable = true)\n",
      " |-- vendas: integer (nullable = true)\n",
      " |-- data: string (nullable = true)\n",
      " |-- data2: timestamp (nullable = true)\n",
      "\n"
     ]
    }
   ],
   "source": [
    "despachantes2.printSchema()"
   ]
  },
  {
   "cell_type": "code",
   "execution_count": 46,
   "id": "75e858a3-06ca-4532-ad90-ca0612475321",
   "metadata": {},
   "outputs": [
    {
     "name": "stdout",
     "output_type": "stream",
     "text": [
      "+----------+\n",
      "|year(data)|\n",
      "+----------+\n",
      "|      2020|\n",
      "|      2020|\n",
      "|      2020|\n",
      "|      2020|\n",
      "|      2020|\n",
      "|      2019|\n",
      "|      2019|\n",
      "|      2020|\n",
      "|      2018|\n",
      "|      2020|\n",
      "+----------+\n",
      "\n"
     ]
    }
   ],
   "source": [
    "despachantes2.select(year(\"data\")).show()"
   ]
  },
  {
   "cell_type": "code",
   "execution_count": 47,
   "id": "98256aee-f953-40cf-89da-1b16bc815b51",
   "metadata": {},
   "outputs": [
    {
     "name": "stdout",
     "output_type": "stream",
     "text": [
      "+----------+\n",
      "|year(data)|\n",
      "+----------+\n",
      "|      2018|\n",
      "|      2019|\n",
      "|      2020|\n",
      "+----------+\n",
      "\n"
     ]
    }
   ],
   "source": [
    "despachantes2.select(year(\"data\")).distinct().show()"
   ]
  },
  {
   "cell_type": "code",
   "execution_count": 48,
   "id": "2516d457-6f55-48e1-94d9-a6bf82c58cc0",
   "metadata": {},
   "outputs": [
    {
     "name": "stdout",
     "output_type": "stream",
     "text": [
      "+-------------------+----------+\n",
      "|               nome|year(data)|\n",
      "+-------------------+----------+\n",
      "|   Carminda Pestana|      2020|\n",
      "|    Deolinda Vilela|      2020|\n",
      "|   Emídio Dornelles|      2020|\n",
      "|Felisbela Dornelles|      2020|\n",
      "|     Graça Ornellas|      2020|\n",
      "|   Matilde Rebouças|      2019|\n",
      "|    Noêmia   Orriça|      2019|\n",
      "|      Roque Vásquez|      2020|\n",
      "|      Uriel Queiroz|      2018|\n",
      "|   Viviana Sequeira|      2020|\n",
      "+-------------------+----------+\n",
      "\n"
     ]
    }
   ],
   "source": [
    "despachantes2.select(\"nome\", year(\"data\")).orderBy(\"nome\").show()"
   ]
  },
  {
   "cell_type": "code",
   "execution_count": 49,
   "id": "f4ab4d34-c75f-4dd4-b89a-9825122f23dc",
   "metadata": {},
   "outputs": [
    {
     "name": "stdout",
     "output_type": "stream",
     "text": [
      "+----------+-----+\n",
      "|year(data)|count|\n",
      "+----------+-----+\n",
      "|      2018|    1|\n",
      "|      2019|    2|\n",
      "|      2020|    7|\n",
      "+----------+-----+\n",
      "\n"
     ]
    }
   ],
   "source": [
    "despachantes2.select(\"data\").groupBy(year(\"data\")).count().show()"
   ]
  },
  {
   "cell_type": "code",
   "execution_count": 50,
   "id": "110655f1-ae83-4449-8fb3-a3f821be6ce5",
   "metadata": {},
   "outputs": [
    {
     "name": "stdout",
     "output_type": "stream",
     "text": [
      "+-----------+\n",
      "|sum(vendas)|\n",
      "+-----------+\n",
      "|        325|\n",
      "+-----------+\n",
      "\n"
     ]
    }
   ],
   "source": [
    "despachantes2.select(f.sum(\"vendas\")).show()"
   ]
  },
  {
   "cell_type": "code",
   "execution_count": null,
   "id": "1d8e7bac-03bc-4b85-ac8b-ea6a0d621721",
   "metadata": {},
   "outputs": [],
   "source": []
  }
 ],
 "metadata": {
  "kernelspec": {
   "display_name": "Python 3 (ipykernel)",
   "language": "python",
   "name": "python3"
  },
  "language_info": {
   "codemirror_mode": {
    "name": "ipython",
    "version": 3
   },
   "file_extension": ".py",
   "mimetype": "text/x-python",
   "name": "python",
   "nbconvert_exporter": "python",
   "pygments_lexer": "ipython3",
   "version": "3.10.6"
  }
 },
 "nbformat": 4,
 "nbformat_minor": 5
}
