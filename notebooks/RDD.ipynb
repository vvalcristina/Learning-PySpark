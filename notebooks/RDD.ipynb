{
 "cells": [
  {
   "cell_type": "markdown",
   "id": "4e58ca17-f248-4921-94ae-758cb746283a",
   "metadata": {},
   "source": [
    "![image](images/rdd.png)"
   ]
  },
  {
   "cell_type": "markdown",
   "id": "417148b2-004d-43f0-a1df-01c9bda981b9",
   "metadata": {},
   "source": [
    "![image](images/transformacao_acao.png)"
   ]
  },
  {
   "cell_type": "code",
   "execution_count": 1,
   "id": "607d935c-0f85-4692-8bc3-a7499c0e1163",
   "metadata": {},
   "outputs": [],
   "source": [
    "import pyspark\n",
    "from pyspark.sql import SparkSession"
   ]
  },
  {
   "cell_type": "code",
   "execution_count": 4,
   "id": "6668102d-a4c0-4f11-b162-1210f121ce1f",
   "metadata": {},
   "outputs": [],
   "source": [
    "spark = SparkSession.builder.appName('SparkByExamples.com').getOrCreate()\n",
    "sc= spark.sparkContext"
   ]
  },
  {
   "cell_type": "code",
   "execution_count": 3,
   "id": "a18e8561-541a-4141-8903-cc30b975fb2f",
   "metadata": {},
   "outputs": [
    {
     "data": {
      "text/html": [
       "\n",
       "            <div>\n",
       "                <p><b>SparkSession - in-memory</b></p>\n",
       "                \n",
       "        <div>\n",
       "            <p><b>SparkContext</b></p>\n",
       "\n",
       "            <p><a href=\"http://72d9642c3811:4040\">Spark UI</a></p>\n",
       "\n",
       "            <dl>\n",
       "              <dt>Version</dt>\n",
       "                <dd><code>v3.3.0</code></dd>\n",
       "              <dt>Master</dt>\n",
       "                <dd><code>local[*]</code></dd>\n",
       "              <dt>AppName</dt>\n",
       "                <dd><code>SparkByExamples.com</code></dd>\n",
       "            </dl>\n",
       "        </div>\n",
       "        \n",
       "            </div>\n",
       "        "
      ],
      "text/plain": [
       "<pyspark.sql.session.SparkSession at 0x7f3df4091db0>"
      ]
     },
     "execution_count": 3,
     "metadata": {},
     "output_type": "execute_result"
    }
   ],
   "source": [
    "spark"
   ]
  },
  {
   "cell_type": "code",
   "execution_count": 5,
   "id": "c2e09447-c61f-43a2-8bc4-120ce1b94898",
   "metadata": {},
   "outputs": [
    {
     "data": {
      "text/html": [
       "\n",
       "        <div>\n",
       "            <p><b>SparkContext</b></p>\n",
       "\n",
       "            <p><a href=\"http://72d9642c3811:4040\">Spark UI</a></p>\n",
       "\n",
       "            <dl>\n",
       "              <dt>Version</dt>\n",
       "                <dd><code>v3.3.0</code></dd>\n",
       "              <dt>Master</dt>\n",
       "                <dd><code>local[*]</code></dd>\n",
       "              <dt>AppName</dt>\n",
       "                <dd><code>SparkByExamples.com</code></dd>\n",
       "            </dl>\n",
       "        </div>\n",
       "        "
      ],
      "text/plain": [
       "<SparkContext master=local[*] appName=SparkByExamples.com>"
      ]
     },
     "execution_count": 5,
     "metadata": {},
     "output_type": "execute_result"
    }
   ],
   "source": [
    "sc"
   ]
  },
  {
   "cell_type": "code",
   "execution_count": 6,
   "id": "55dbe910-a686-4cce-a467-41748a3bfeb9",
   "metadata": {},
   "outputs": [],
   "source": [
    "numeros = sc.parallelize([1,2,3,4,5,6,7,8,9,10])"
   ]
  },
  {
   "cell_type": "code",
   "execution_count": 8,
   "id": "9c371a06-5a4a-45d3-ab0e-8b71be2bcd7d",
   "metadata": {},
   "outputs": [
    {
     "data": {
      "text/plain": [
       "[1, 2, 3, 4, 5]"
      ]
     },
     "execution_count": 8,
     "metadata": {},
     "output_type": "execute_result"
    }
   ],
   "source": [
    "numeros.take(5)"
   ]
  },
  {
   "cell_type": "code",
   "execution_count": 9,
   "id": "79ad4b34-5ddb-4e77-ab98-52fbd758cece",
   "metadata": {},
   "outputs": [
    {
     "data": {
      "text/plain": [
       "[10, 9, 8, 7, 6]"
      ]
     },
     "execution_count": 9,
     "metadata": {},
     "output_type": "execute_result"
    }
   ],
   "source": [
    "numeros.top(5)"
   ]
  },
  {
   "cell_type": "code",
   "execution_count": 11,
   "id": "7ea2b193-24ab-47b2-8abf-551cc3c8f025",
   "metadata": {},
   "outputs": [
    {
     "data": {
      "text/plain": [
       "[1, 2, 3, 4, 5, 6, 7, 8, 9, 10]"
      ]
     },
     "execution_count": 11,
     "metadata": {},
     "output_type": "execute_result"
    }
   ],
   "source": [
    "#Não muito recomendado, pois traz todos os dados\n",
    "numeros.collect()"
   ]
  },
  {
   "cell_type": "code",
   "execution_count": 13,
   "id": "23cdabde-be50-40a1-8c5e-0ea2fc5604ff",
   "metadata": {},
   "outputs": [
    {
     "data": {
      "text/plain": [
       "10"
      ]
     },
     "execution_count": 13,
     "metadata": {},
     "output_type": "execute_result"
    }
   ],
   "source": [
    "numeros.count()"
   ]
  },
  {
   "cell_type": "code",
   "execution_count": 14,
   "id": "72b9fac6-be95-4abc-aba0-539af1c43bfc",
   "metadata": {},
   "outputs": [
    {
     "data": {
      "text/plain": [
       "5.5"
      ]
     },
     "execution_count": 14,
     "metadata": {},
     "output_type": "execute_result"
    }
   ],
   "source": [
    "numeros.mean()"
   ]
  },
  {
   "cell_type": "code",
   "execution_count": 15,
   "id": "6a9c8755-bfa0-4f44-bb15-771d7efe7ac1",
   "metadata": {},
   "outputs": [
    {
     "data": {
      "text/plain": [
       "55"
      ]
     },
     "execution_count": 15,
     "metadata": {},
     "output_type": "execute_result"
    }
   ],
   "source": [
    "numeros.sum()"
   ]
  },
  {
   "cell_type": "code",
   "execution_count": 16,
   "id": "9c52416f-3797-42d7-98bb-bf976777be1a",
   "metadata": {},
   "outputs": [
    {
     "data": {
      "text/plain": [
       "10"
      ]
     },
     "execution_count": 16,
     "metadata": {},
     "output_type": "execute_result"
    }
   ],
   "source": [
    "numeros.max()"
   ]
  },
  {
   "cell_type": "code",
   "execution_count": 17,
   "id": "56a41913-728a-46f0-8a75-b0b28b73b22e",
   "metadata": {},
   "outputs": [
    {
     "data": {
      "text/plain": [
       "1"
      ]
     },
     "execution_count": 17,
     "metadata": {},
     "output_type": "execute_result"
    }
   ],
   "source": [
    "numeros.min()"
   ]
  },
  {
   "cell_type": "code",
   "execution_count": 18,
   "id": "e9ebd369-65a8-4902-b591-bb8c4a1bd36c",
   "metadata": {},
   "outputs": [
    {
     "data": {
      "text/plain": [
       "2.8722813232690143"
      ]
     },
     "execution_count": 18,
     "metadata": {},
     "output_type": "execute_result"
    }
   ],
   "source": [
    "numeros.stdev()"
   ]
  },
  {
   "cell_type": "code",
   "execution_count": 19,
   "id": "4ee60fd5-76bf-4e57-a56b-932c55f38913",
   "metadata": {},
   "outputs": [
    {
     "data": {
      "text/plain": [
       "[3, 4, 5, 6, 7, 8, 9, 10]"
      ]
     },
     "execution_count": 19,
     "metadata": {},
     "output_type": "execute_result"
    }
   ],
   "source": [
    "#Aplicando filtro\n",
    "#Filtro é uma transformação, logo teremos o resultado apenas quando aplicarmos uma ação\n",
    "filtro = numeros.filter(lambda filtro: filtro>2)\n",
    "filtro.collect()"
   ]
  },
  {
   "cell_type": "code",
   "execution_count": 22,
   "id": "a77ce42f-5f79-4432-8886-4aff332ba997",
   "metadata": {},
   "outputs": [
    {
     "data": {
      "text/plain": [
       "[3, 4, 4, 5, 6, 10]"
      ]
     },
     "execution_count": 22,
     "metadata": {},
     "output_type": "execute_result"
    }
   ],
   "source": [
    "#https://spark.apache.org/docs/latest/api/python/reference/api/pyspark.RDD.sample.html\n",
    "amostra = numeros.sample(True,0.5,1)\n",
    "amostra.collect()"
   ]
  },
  {
   "cell_type": "code",
   "execution_count": 24,
   "id": "0a91de7f-3727-423a-bfff-dc7fc7013505",
   "metadata": {},
   "outputs": [
    {
     "data": {
      "text/plain": [
       "[2, 4, 6, 8, 10, 12, 14, 16, 18, 20]"
      ]
     },
     "execution_count": 24,
     "metadata": {},
     "output_type": "execute_result"
    }
   ],
   "source": [
    "mapa = numeros.map(lambda mapa: mapa *2)\n",
    "mapa.collect()"
   ]
  },
  {
   "cell_type": "code",
   "execution_count": 25,
   "id": "35e14099-ba3b-49aa-ba61-64cd0bdcde29",
   "metadata": {},
   "outputs": [
    {
     "data": {
      "text/plain": [
       "[1, 2, 3, 4, 5, 6, 7, 8, 9, 10]"
      ]
     },
     "execution_count": 25,
     "metadata": {},
     "output_type": "execute_result"
    }
   ],
   "source": [
    "numeros.collect()"
   ]
  },
  {
   "cell_type": "markdown",
   "id": "e7609d85-4cec-4a5e-91eb-fdc428dd9784",
   "metadata": {},
   "source": [
    "### Operações entre RDDs"
   ]
  },
  {
   "cell_type": "code",
   "execution_count": 27,
   "id": "2ea43185-074f-40c5-b199-57db30e61fa7",
   "metadata": {},
   "outputs": [],
   "source": [
    "numeros2 = sc.parallelize([6,7,8,9,10])"
   ]
  },
  {
   "cell_type": "code",
   "execution_count": 28,
   "id": "6abc8e4c-f821-4f25-abbc-2d18e691af72",
   "metadata": {},
   "outputs": [
    {
     "data": {
      "text/plain": [
       "[1, 2, 3, 4, 5, 6, 7, 8, 9, 10, 6, 7, 8, 9, 10]"
      ]
     },
     "execution_count": 28,
     "metadata": {},
     "output_type": "execute_result"
    }
   ],
   "source": [
    "#União\n",
    "uniao = numeros.union(numeros2)\n",
    "uniao.collect()"
   ]
  },
  {
   "cell_type": "code",
   "execution_count": 29,
   "id": "fe27bbbf-a353-4d4c-9644-1d14ff1c47d2",
   "metadata": {},
   "outputs": [
    {
     "data": {
      "text/plain": [
       "[6, 7, 8, 9, 10]"
      ]
     },
     "execution_count": 29,
     "metadata": {},
     "output_type": "execute_result"
    }
   ],
   "source": [
    "#Verificar elementos em comum\n",
    "interseccao = numeros.intersection(numeros2)\n",
    "interseccao.collect()"
   ]
  },
  {
   "cell_type": "code",
   "execution_count": 30,
   "id": "51d4d494-be08-46a5-9220-e46a42215ac1",
   "metadata": {},
   "outputs": [
    {
     "data": {
      "text/plain": [
       "[1, 2, 3, 4, 5]"
      ]
     },
     "execution_count": 30,
     "metadata": {},
     "output_type": "execute_result"
    }
   ],
   "source": [
    "#Subtração dos elementos. Elementos que tem no numeros, mas não estão no numeros2\n",
    "subtrai = numeros.subtract(numeros2)\n",
    "subtrai.collect()"
   ]
  },
  {
   "cell_type": "code",
   "execution_count": 31,
   "id": "9890ffbf-ad5a-4893-8a2f-459c4f40a91a",
   "metadata": {},
   "outputs": [
    {
     "data": {
      "text/plain": [
       "[(1, 6),\n",
       " (1, 7),\n",
       " (1, 8),\n",
       " (1, 9),\n",
       " (1, 10),\n",
       " (2, 6),\n",
       " (2, 7),\n",
       " (2, 8),\n",
       " (2, 9),\n",
       " (2, 10),\n",
       " (3, 6),\n",
       " (3, 7),\n",
       " (3, 8),\n",
       " (3, 9),\n",
       " (3, 10),\n",
       " (4, 6),\n",
       " (5, 6),\n",
       " (4, 7),\n",
       " (5, 7),\n",
       " (4, 8),\n",
       " (5, 8),\n",
       " (4, 9),\n",
       " (5, 9),\n",
       " (4, 10),\n",
       " (5, 10),\n",
       " (6, 6),\n",
       " (6, 7),\n",
       " (6, 8),\n",
       " (6, 9),\n",
       " (6, 10),\n",
       " (7, 6),\n",
       " (7, 7),\n",
       " (7, 8),\n",
       " (7, 9),\n",
       " (7, 10),\n",
       " (8, 6),\n",
       " (8, 7),\n",
       " (8, 8),\n",
       " (8, 9),\n",
       " (8, 10),\n",
       " (9, 6),\n",
       " (10, 6),\n",
       " (9, 7),\n",
       " (10, 7),\n",
       " (9, 8),\n",
       " (10, 8),\n",
       " (9, 9),\n",
       " (10, 9),\n",
       " (9, 10),\n",
       " (10, 10)]"
      ]
     },
     "execution_count": 31,
     "metadata": {},
     "output_type": "execute_result"
    }
   ],
   "source": [
    "#Calculando o produto cartesiano\n",
    "#https://spark.apache.org/docs/latest/api/python/reference/api/pyspark.RDD.cartesian.html?highlight=cartesian\n",
    "cartesiano = numeros.cartesian(numeros2)\n",
    "cartesiano.collect()"
   ]
  },
  {
   "cell_type": "code",
   "execution_count": 32,
   "id": "5983620c-c537-4ffb-a708-4ab3ac4a0238",
   "metadata": {},
   "outputs": [
    {
     "data": {
      "text/plain": [
       "defaultdict(int,\n",
       "            {(1, 6): 1,\n",
       "             (1, 7): 1,\n",
       "             (1, 8): 1,\n",
       "             (1, 9): 1,\n",
       "             (1, 10): 1,\n",
       "             (2, 6): 1,\n",
       "             (2, 7): 1,\n",
       "             (2, 8): 1,\n",
       "             (2, 9): 1,\n",
       "             (2, 10): 1,\n",
       "             (3, 6): 1,\n",
       "             (3, 7): 1,\n",
       "             (3, 8): 1,\n",
       "             (3, 9): 1,\n",
       "             (3, 10): 1,\n",
       "             (4, 6): 1,\n",
       "             (5, 6): 1,\n",
       "             (4, 7): 1,\n",
       "             (5, 7): 1,\n",
       "             (4, 8): 1,\n",
       "             (5, 8): 1,\n",
       "             (4, 9): 1,\n",
       "             (5, 9): 1,\n",
       "             (4, 10): 1,\n",
       "             (5, 10): 1,\n",
       "             (6, 6): 1,\n",
       "             (6, 7): 1,\n",
       "             (6, 8): 1,\n",
       "             (6, 9): 1,\n",
       "             (6, 10): 1,\n",
       "             (7, 6): 1,\n",
       "             (7, 7): 1,\n",
       "             (7, 8): 1,\n",
       "             (7, 9): 1,\n",
       "             (7, 10): 1,\n",
       "             (8, 6): 1,\n",
       "             (8, 7): 1,\n",
       "             (8, 8): 1,\n",
       "             (8, 9): 1,\n",
       "             (8, 10): 1,\n",
       "             (9, 6): 1,\n",
       "             (10, 6): 1,\n",
       "             (9, 7): 1,\n",
       "             (10, 7): 1,\n",
       "             (9, 8): 1,\n",
       "             (10, 8): 1,\n",
       "             (9, 9): 1,\n",
       "             (10, 9): 1,\n",
       "             (9, 10): 1,\n",
       "             (10, 10): 1})"
      ]
     },
     "execution_count": 32,
     "metadata": {},
     "output_type": "execute_result"
    }
   ],
   "source": [
    "#Contar quantas vezes aparece cada elemento do produto cartesiano\n",
    "cartesiano.countByValue()"
   ]
  },
  {
   "cell_type": "code",
   "execution_count": 33,
   "id": "95fea31b-3455-4947-97af-92c494ec480e",
   "metadata": {},
   "outputs": [],
   "source": [
    "compras = sc.parallelize([(1,200),(2,300),(3,120),(4,250),(5,78)])"
   ]
  },
  {
   "cell_type": "code",
   "execution_count": 34,
   "id": "d3e75543-2c71-43e0-94dd-dfc68fe0fa92",
   "metadata": {},
   "outputs": [
    {
     "data": {
      "text/plain": [
       "[1, 2, 3, 4, 5]"
      ]
     },
     "execution_count": 34,
     "metadata": {},
     "output_type": "execute_result"
    }
   ],
   "source": [
    "#Ver todos os clientes do RDD\n",
    "#Chave:valor\n",
    "chaves = compras.keys()\n",
    "chaves.collect()"
   ]
  },
  {
   "cell_type": "code",
   "execution_count": 35,
   "id": "a407085f-216d-4126-a492-c459b9b64534",
   "metadata": {},
   "outputs": [
    {
     "data": {
      "text/plain": [
       "[200, 300, 120, 250, 78]"
      ]
     },
     "execution_count": 35,
     "metadata": {},
     "output_type": "execute_result"
    }
   ],
   "source": [
    "valores = compras.values()\n",
    "valores.collect()"
   ]
  },
  {
   "cell_type": "code",
   "execution_count": 36,
   "id": "e2b52306-2a74-45d1-8702-27f45548b2c8",
   "metadata": {},
   "outputs": [
    {
     "data": {
      "text/plain": [
       "defaultdict(int, {1: 1, 2: 1, 3: 1, 4: 1, 5: 1})"
      ]
     },
     "execution_count": 36,
     "metadata": {},
     "output_type": "execute_result"
    }
   ],
   "source": [
    "#Contagem por chave\n",
    "compras.countByKey()"
   ]
  },
  {
   "cell_type": "code",
   "execution_count": 37,
   "id": "72607d23-4866-459f-a9d0-fe08ce5ac508",
   "metadata": {},
   "outputs": [
    {
     "data": {
      "text/plain": [
       "[(1, 201), (2, 301), (3, 121), (4, 251), (5, 79)]"
      ]
     },
     "execution_count": 37,
     "metadata": {},
     "output_type": "execute_result"
    }
   ],
   "source": [
    "#Somando 1 em cada valor\n",
    "soma = compras.mapValues(lambda soma: soma +1)\n",
    "soma.collect()"
   ]
  },
  {
   "cell_type": "code",
   "execution_count": 38,
   "id": "efb5d2ee-185f-4348-82e9-436563c5d2d0",
   "metadata": {},
   "outputs": [
    {
     "data": {
      "text/plain": [
       "[(1, 200), (2, 300), (3, 120), (4, 250), (5, 78)]"
      ]
     },
     "execution_count": 38,
     "metadata": {},
     "output_type": "execute_result"
    }
   ],
   "source": [
    "compras.collect()"
   ]
  },
  {
   "cell_type": "code",
   "execution_count": 39,
   "id": "9a819456-5b8e-42af-94d4-52bce11db7dd",
   "metadata": {},
   "outputs": [],
   "source": [
    "debitos = sc.parallelize([(1,20),(2,300)])"
   ]
  },
  {
   "cell_type": "code",
   "execution_count": 41,
   "id": "1e40e4ef-00cc-497e-9e08-02e3615800da",
   "metadata": {},
   "outputs": [
    {
     "data": {
      "text/plain": [
       "[(1, (200, 20)), (2, (300, 300))]"
      ]
     },
     "execution_count": 41,
     "metadata": {},
     "output_type": "execute_result"
    }
   ],
   "source": [
    "#Join entre as compras e debitos\n",
    "resultados = compras.join(debitos)\n",
    "resultados.collect()"
   ]
  },
  {
   "cell_type": "code",
   "execution_count": 42,
   "id": "1c6ac887-c7bf-41ee-b67d-7bb5373e09b7",
   "metadata": {},
   "outputs": [
    {
     "data": {
      "text/plain": [
       "[(3, 120), (4, 250), (5, 78)]"
      ]
     },
     "execution_count": 42,
     "metadata": {},
     "output_type": "execute_result"
    }
   ],
   "source": [
    "# Mostrar apenas os clientes sem debitos\n",
    "semdebito = compras.subtractByKey(debitos)\n",
    "semdebito.collect()"
   ]
  },
  {
   "cell_type": "code",
   "execution_count": null,
   "id": "2cfd980a-4c26-4352-a27d-4d30b54b3208",
   "metadata": {},
   "outputs": [],
   "source": []
  }
 ],
 "metadata": {
  "kernelspec": {
   "display_name": "Python 3 (ipykernel)",
   "language": "python",
   "name": "python3"
  },
  "language_info": {
   "codemirror_mode": {
    "name": "ipython",
    "version": 3
   },
   "file_extension": ".py",
   "mimetype": "text/x-python",
   "name": "python",
   "nbconvert_exporter": "python",
   "pygments_lexer": "ipython3",
   "version": "3.10.6"
  }
 },
 "nbformat": 4,
 "nbformat_minor": 5
}
